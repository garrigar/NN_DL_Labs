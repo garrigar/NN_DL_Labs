{
  "cells": [
    {
      "cell_type": "markdown",
      "metadata": {
        "id": "qBEFs4pm3-qC"
      },
      "source": [
        "# Лабораторная работа 10"
      ]
    },
    {
      "cell_type": "markdown",
      "metadata": {
        "id": "DPj0Uc2g3-qE"
      },
      "source": [
        "## Практика TensorFlow 2.x"
      ]
    },
    {
      "cell_type": "markdown",
      "metadata": {
        "id": "Vy5E5XRO3-qF"
      },
      "source": [
        "Выполнил: гр. 6231, Габбасов Раиль"
      ]
    },
    {
      "cell_type": "markdown",
      "metadata": {
        "id": "Eu3nohdz3-qF"
      },
      "source": [
        "### Задание\n",
        "\n",
        "В данной лабораторной работе будет практиковаться материал из лекций по TensorFlow на примере решения задачи классификации изображений из датасета Fashion MNIST. Fashion MNIST - набор черно-белых изображений размера 28х28, что поделены на 10 классов. Будет построена с нуля и обучена модель логистической регрессии используя как низкоуровневый API. Опционально решение той же задачи нейронной сетью, построенной и обученной с использованием Keras."
      ]
    },
    {
      "cell_type": "code",
      "source": [
        "%matplotlib inline\n",
        "import matplotlib.pyplot as plt\n",
        "\n",
        "import tensorflow as tf\n",
        "import numpy as np\n",
        "\n",
        "from tqdm import tqdm"
      ],
      "metadata": {
        "id": "niCvCDEv9bhg"
      },
      "execution_count": 1,
      "outputs": []
    },
    {
      "cell_type": "code",
      "source": [
        "tf.__version__"
      ],
      "metadata": {
        "colab": {
          "base_uri": "https://localhost:8080/",
          "height": 35
        },
        "id": "JDyuHS_x-_G0",
        "outputId": "3f6fba83-56f6-4625-c75e-c03ea4eec799"
      },
      "execution_count": 2,
      "outputs": [
        {
          "output_type": "execute_result",
          "data": {
            "text/plain": [
              "'2.9.2'"
            ],
            "application/vnd.google.colaboratory.intrinsic+json": {
              "type": "string"
            }
          },
          "metadata": {},
          "execution_count": 2
        }
      ]
    },
    {
      "cell_type": "code",
      "source": [
        "tf.config.list_physical_devices()"
      ],
      "metadata": {
        "colab": {
          "base_uri": "https://localhost:8080/"
        },
        "id": "HkGz0VWk_BCW",
        "outputId": "c34874aa-6eed-48c0-d2d8-fb5b196c53ef"
      },
      "execution_count": 3,
      "outputs": [
        {
          "output_type": "execute_result",
          "data": {
            "text/plain": [
              "[PhysicalDevice(name='/physical_device:CPU:0', device_type='CPU')]"
            ]
          },
          "metadata": {},
          "execution_count": 3
        }
      ]
    },
    {
      "cell_type": "markdown",
      "metadata": {
        "id": "E9WkRTlt3-qF"
      },
      "source": [
        "0 Базовые операции. \n",
        "   - 0.1 Сгенерируйте три непересекающихся гауссовых облака, используя `tf.random`. Визуализируйте их разными цветами, используя matplotlib. \n",
        "   - 0.2 Сгенерируйте случайную матрицу 2x2, умножьте каждую точку в облаках на эту матрицу. Повторно визуализируйте облака."
      ]
    },
    {
      "cell_type": "code",
      "execution_count": 4,
      "metadata": {
        "colab": {
          "base_uri": "https://localhost:8080/",
          "height": 282
        },
        "id": "vEuC1QhW3-qG",
        "outputId": "9225b3e0-5a1a-4de0-d325-ac3d034e63b0"
      },
      "outputs": [
        {
          "output_type": "execute_result",
          "data": {
            "text/plain": [
              "<matplotlib.collections.PathCollection at 0x7fbf13644ed0>"
            ]
          },
          "metadata": {},
          "execution_count": 4
        },
        {
          "output_type": "display_data",
          "data": {
            "text/plain": [
              "<Figure size 432x288 with 1 Axes>"
            ],
            "image/png": "[encoded data removed]"
          },
          "metadata": {
            "needs_background": "light"
          }
        }
      ],
      "source": [
        "# 0.1\n",
        "\n",
        "noise1 = tf.random.normal((64, 2), mean=[5, 5], stddev=1)\n",
        "noise2 = tf.random.normal((64, 2), mean=[-3, 3], stddev=1)\n",
        "noise3 = tf.random.normal((64, 2), mean=[-6, -6], stddev=1)\n",
        "\n",
        "plt.scatter(noise1[:, 0], noise1[:, 1])\n",
        "plt.scatter(noise2[:, 0], noise2[:, 1])\n",
        "plt.scatter(noise3[:, 0], noise3[:, 1])"
      ]
    },
    {
      "cell_type": "code",
      "source": [
        "matrix = np.random.normal(size=(2,2))\n",
        "matrix"
      ],
      "metadata": {
        "colab": {
          "base_uri": "https://localhost:8080/"
        },
        "id": "TDWsDaEjDiz2",
        "outputId": "3fc330d8-febf-46d4-8152-5ed1ece15f8d"
      },
      "execution_count": 5,
      "outputs": [
        {
          "output_type": "execute_result",
          "data": {
            "text/plain": [
              "array([[-0.02365888,  0.11301136],\n",
              "       [-0.73033877,  0.69613969]])"
            ]
          },
          "metadata": {},
          "execution_count": 5
        }
      ]
    },
    {
      "cell_type": "code",
      "source": [
        "# 0.2\n",
        "\n",
        "m_noise1 = tf.matmul(noise1, matrix)\n",
        "m_noise2 = tf.matmul(noise2, matrix)\n",
        "m_noise3 = tf.matmul(noise3, matrix)\n",
        "\n",
        "plt.scatter(m_noise1[:, 0], m_noise1[:, 1])\n",
        "plt.scatter(m_noise2[:, 0], m_noise2[:, 1])\n",
        "plt.scatter(m_noise3[:, 0], m_noise3[:, 1])"
      ],
      "metadata": {
        "colab": {
          "base_uri": "https://localhost:8080/",
          "height": 284
        },
        "id": "tugwT1-gDp1t",
        "outputId": "a54434a1-dce8-41ca-8954-e47b9c03bb86"
      },
      "execution_count": 6,
      "outputs": [
        {
          "output_type": "execute_result",
          "data": {
            "text/plain": [
              "<matplotlib.collections.PathCollection at 0x7fbf1314eed0>"
            ]
          },
          "metadata": {},
          "execution_count": 6
        },
        {
          "output_type": "display_data",
          "data": {
            "text/plain": [
              "<Figure size 432x288 with 1 Axes>"
            ],
            "image/png": "[encoded data removed]"
          },
          "metadata": {
            "needs_background": "light"
          }
        }
      ]
    },
    {
      "cell_type": "markdown",
      "metadata": {
        "id": "aeUYRYx33-qG"
      },
      "source": [
        "1 Загрузите датасет Fashion MNIST, используя метод из [tf.keras.datasets](https://www.tensorflow.org/api_docs/python/tf/keras/datasets). Визуализируйте несколько изображений, используя библиотеку matplotlib."
      ]
    },
    {
      "cell_type": "code",
      "execution_count": 7,
      "metadata": {
        "id": "9CC_G9hO3-qH",
        "colab": {
          "base_uri": "https://localhost:8080/"
        },
        "outputId": "994fd443-75bc-4ef4-ed03-6631f11077f4"
      },
      "outputs": [
        {
          "output_type": "stream",
          "name": "stdout",
          "text": [
            "Тренировочный набор: X=(60000, 28, 28), y=(60000,)\n",
            "Тестовый набор данных: X=(10000, 28, 28), y=(10000,)\n"
          ]
        }
      ],
      "source": [
        "(X_train, y_train), (X_test, y_test) = tf.keras.datasets.fashion_mnist.load_data()\n",
        "\n",
        "class_names = ['T-shirt/top', 'Trouser', 'Pullover', 'Dress', 'Coat',\n",
        "               'Sandal', 'Shirt', 'Sneaker', 'Bag', 'Ankle boot']\n",
        "\n",
        "NUM_TRAIN = None  # 10000\n",
        "NUM_TEST = None  # 1000\n",
        "\n",
        "X_train = X_train[:NUM_TRAIN]\n",
        "y_train = y_train[:NUM_TRAIN]\n",
        "\n",
        "X_test = X_test[:NUM_TEST]\n",
        "y_test = y_test[:NUM_TEST]\n",
        "\n",
        "print(f\"Тренировочный набор: X={X_train.shape}, y={y_train.shape}\")\n",
        "print(f\"Тестовый набор данных: X={X_test.shape}, y={y_test.shape}\")"
      ]
    },
    {
      "cell_type": "code",
      "source": [
        "plt.figure(figsize=(10, 7))\n",
        "for i in range(15):\n",
        "    plt.subplot(3, 5, i+1)\n",
        "    plt.xticks([])\n",
        "    plt.yticks([])\n",
        "    plt.grid(False)\n",
        "    plt.imshow(X_train[i], cmap=plt.cm.binary)\n",
        "    plt.xlabel(class_names[y_train[i]])\n",
        "plt.show()"
      ],
      "metadata": {
        "colab": {
          "base_uri": "https://localhost:8080/",
          "height": 410
        },
        "id": "1eNlw8AYEls2",
        "outputId": "a30579e5-8af9-40db-b5ec-5387714a8403"
      },
      "execution_count": 8,
      "outputs": [
        {
          "output_type": "display_data",
          "data": {
            "text/plain": [
              "<Figure size 720x504 with 15 Axes>"
            ],
            "image/png": "[encoded data removed]"
          },
          "metadata": {}
        }
      ]
    },
    {
      "cell_type": "code",
      "execution_count": 9,
      "metadata": {
        "id": "vPQx3MEC3-qH"
      },
      "outputs": [],
      "source": [
        "X_train = X_train.astype('float32')\n",
        "X_test = X_test.astype('float32')\n"
      ]
    },
    {
      "cell_type": "markdown",
      "metadata": {
        "id": "i7PEP9XM3-qH"
      },
      "source": [
        "2 Нормализуйте данные либо средним и СКО, либо приведя значения пикселей в интервал [-1, 1]."
      ]
    },
    {
      "cell_type": "code",
      "source": [
        "X_train.min(), X_train.max(), X_train.mean(), X_train.std()"
      ],
      "metadata": {
        "colab": {
          "base_uri": "https://localhost:8080/"
        },
        "id": "M4TFtqlPGrvE",
        "outputId": "07c28095-eef4-4df8-fb8a-afce06f3a952"
      },
      "execution_count": 10,
      "outputs": [
        {
          "output_type": "execute_result",
          "data": {
            "text/plain": [
              "(0.0, 255.0, 72.94042, 90.02121)"
            ]
          },
          "metadata": {},
          "execution_count": 10
        }
      ]
    },
    {
      "cell_type": "code",
      "source": [
        "mean, std = np.mean(X_train), np.std(X_train)\n",
        "X_train = (X_train - mean) / std\n",
        "X_test = (X_test - mean) / std"
      ],
      "metadata": {
        "id": "NrF5JXOmIMJ1"
      },
      "execution_count": 11,
      "outputs": []
    },
    {
      "cell_type": "code",
      "source": [
        "X_train.min(), X_train.max(), X_train.mean(), X_train.std()"
      ],
      "metadata": {
        "colab": {
          "base_uri": "https://localhost:8080/"
        },
        "id": "Fkp3XW6sIzOP",
        "outputId": "b17eba7b-ac4a-4647-ae0b-83c50736b7e2"
      },
      "execution_count": 12,
      "outputs": [
        {
          "output_type": "execute_result",
          "data": {
            "text/plain": [
              "(-0.8102582, 2.0224075, -7.9631286e-07, 1.0000011)"
            ]
          },
          "metadata": {},
          "execution_count": 12
        }
      ]
    },
    {
      "cell_type": "markdown",
      "metadata": {
        "id": "qnKwdsaG3-qH"
      },
      "source": [
        "3 Создайте обучающий и тестовый TensorFlow Dataset из нормализованного набора данных. К обучающему датасету добавьте перемешивание (`.shuffle`). К обоим датасетам добавьте генерацию батчей размера 128 (`.batch(128)`)."
      ]
    },
    {
      "cell_type": "code",
      "execution_count": 13,
      "metadata": {
        "id": "6jX-h-cu3-qI"
      },
      "outputs": [],
      "source": [
        "train_dataset = tf.data.Dataset.from_tensor_slices((X_train, y_train))\n",
        "test_dataset = tf.data.Dataset.from_tensor_slices((X_test, y_test))\n",
        "\n",
        "train_dataset = train_dataset.shuffle(buffer_size=len(X_train), reshuffle_each_iteration=True)\n",
        "\n",
        "train_dataset = train_dataset.batch(128, drop_remainder=True)\n",
        "test_dataset = test_dataset.batch(128, drop_remainder=True)"
      ]
    },
    {
      "cell_type": "markdown",
      "metadata": {
        "id": "8aKAB26P3-qI"
      },
      "source": [
        "4 Напишите класс слоя `Flatten`, что трансформирует изображения из матричного в векторный вид: [28, 28] -> [28 * 28]. Класс слоя должен наследоваться от `tf.Module`. Для трансформации тензоров изображений использовать `tf.reshape`."
      ]
    },
    {
      "cell_type": "code",
      "execution_count": 14,
      "metadata": {
        "id": "CdAOEV3G3-qI"
      },
      "outputs": [],
      "source": [
        "class Flatten(tf.Module):\n",
        "\n",
        "    def __init__(self, name=None):\n",
        "        super().__init__(name=name)\n",
        "\n",
        "    def __call__(self, x):\n",
        "        x_shape = tf.shape(x)\n",
        "\n",
        "        if len(x_shape) == 1:\n",
        "            new_shape = x_shape\n",
        "        elif len(x_shape) == 2:\n",
        "            new_shape = (1, tf.math.reduce_prod(x_shape))\n",
        "        else:\n",
        "            new_shape = (x_shape[0], tf.math.reduce_prod(x_shape[1:]))\n",
        "\n",
        "        return tf.reshape(x, new_shape)"
      ]
    },
    {
      "cell_type": "markdown",
      "metadata": {
        "id": "n1KgHAyB3-qI"
      },
      "source": [
        "5 Напишите класс линейного слоя `Linear`, что умножает входной вектор на матрицу весов. Класс слоя должен наследоваться от `tf.Module`. Матрицу весов хранить в `tf.Variable`. Параметры конструктора: `in_d` - размерность входного вектора, `out_d` - размерность выходного вектора. В качестве начальной инициализации весов использовать гауссово распределение с СКО=0.01."
      ]
    },
    {
      "cell_type": "code",
      "execution_count": 15,
      "metadata": {
        "id": "jL5ilP7c3-qI"
      },
      "outputs": [],
      "source": [
        "class Linear(tf.Module):\n",
        "\n",
        "    def __init__(self, in_d, out_d, name=None):\n",
        "        # in_d - input dimensionality\n",
        "        # out_d - output dimensionality\n",
        "        # В случае с tf.Module вызывать конструктор родительского класса обязательно! \n",
        "        super().__init__(name=name)\n",
        "        w = tf.random.normal(shape=[in_d, out_d], stddev=0.01, dtype='float32')\n",
        "        self.w = tf.Variable(w, name=f'{name + \"_\" if name is not None else \"\"}weights')\n",
        "        b = tf.zeros(out_d, dtype='float32')\n",
        "        self.b = tf.Variable(b, name=f'{name + \"_\" if name is not None else \"\"}bias')\n",
        "        \n",
        "    def __call__(self, x):\n",
        "        return tf.matmul(x, self.w) + self.b"
      ]
    },
    {
      "cell_type": "markdown",
      "metadata": {
        "id": "8xFKnLT43-qJ"
      },
      "source": [
        "6 Напишите класс модели логистической регрессии `LogisticRegression`, что компонует в себе слои `Linear` и `Flatten`. Класс модели должен наследоваться от `tf.Module`. В качестве функции активации используйте `tf.nn.softmax`.\n",
        "Создайте объект модели и попробуйте с помощью неё классифицировать одно изображение (не забудьте о размерности батча! Она будет равна 1)."
      ]
    },
    {
      "cell_type": "code",
      "execution_count": 16,
      "metadata": {
        "id": "GL4_HWjC3-qJ"
      },
      "outputs": [],
      "source": [
        "class LogisticRegression(tf.Module):\n",
        "    def __init__(self, flatten_dim, n_classes=10, name='logistic_regression'):\n",
        "        super().__init__(name=name)\n",
        "\n",
        "        self.flatten_layer = Flatten(name=f'{name}_flatten')\n",
        "        self.linear_layer = Linear(flatten_dim, n_classes, name=f'{name}_linear')\n",
        "    \n",
        "    def __call__(self, x):\n",
        "        x = self.flatten_layer(x)\n",
        "        x = self.linear_layer(x)\n",
        "        return tf.nn.softmax(x)"
      ]
    },
    {
      "cell_type": "code",
      "source": [
        "model = LogisticRegression(flatten_dim=np.prod(X_train.shape[1:]), n_classes=len(class_names))"
      ],
      "metadata": {
        "id": "PYP2K4mZrZvV"
      },
      "execution_count": 17,
      "outputs": []
    },
    {
      "cell_type": "code",
      "source": [
        "preds = model(X_train[0:1])\n",
        "preds"
      ],
      "metadata": {
        "colab": {
          "base_uri": "https://localhost:8080/"
        },
        "id": "jKYZCCSurdrc",
        "outputId": "f67a8bdd-326a-4b8c-9452-19a7bfafb44a"
      },
      "execution_count": 18,
      "outputs": [
        {
          "output_type": "execute_result",
          "data": {
            "text/plain": [
              "<tf.Tensor: shape=(1, 10), dtype=float32, numpy=\n",
              "array([[0.15477268, 0.09565181, 0.1128557 , 0.08382843, 0.09315006,\n",
              "        0.10049833, 0.09450512, 0.11616927, 0.0943389 , 0.05422964]],\n",
              "      dtype=float32)>"
            ]
          },
          "metadata": {},
          "execution_count": 18
        }
      ]
    },
    {
      "cell_type": "code",
      "source": [
        "np.argmax(preds, axis=1), y_train[0:1]"
      ],
      "metadata": {
        "colab": {
          "base_uri": "https://localhost:8080/"
        },
        "id": "9caCkim-sk_J",
        "outputId": "89def3a2-dac9-407b-a0e7-120c9ede9016"
      },
      "execution_count": 19,
      "outputs": [
        {
          "output_type": "execute_result",
          "data": {
            "text/plain": [
              "(array([0]), array([9], dtype=uint8))"
            ]
          },
          "metadata": {},
          "execution_count": 19
        }
      ]
    },
    {
      "cell_type": "markdown",
      "metadata": {
        "id": "nf2AWjPu3-qJ"
      },
      "source": [
        "7 Напишите функцию оценки точности модели `evaluate`. Список её аргументов: тестовый tf.Dataset, модель. Данная функция будет отличаться оной из лекций тем, что внутри неё не будет ручной выборки батчей из датасета, поскольку tf.Dataset уже делает это за нас."
      ]
    },
    {
      "cell_type": "code",
      "execution_count": 20,
      "metadata": {
        "id": "T__z7U0F3-qJ"
      },
      "outputs": [],
      "source": [
        "def accuracy(y_true, y_pred):\n",
        "    eq = tf.cast(y_true == y_pred, 'float32')\n",
        "    return tf.reduce_mean(eq)\n",
        "\n",
        "\n",
        "def evaluate(model, dataset):\n",
        "    \"\"\"\n",
        "    Функция тестирования модели.\n",
        "    \"\"\" \n",
        "    \n",
        "    y_preds = []\n",
        "    y_true = []\n",
        "\n",
        "    for X_batch, y_batch in tqdm(dataset):\n",
        "        preds = model(X_batch)\n",
        "        preds = tf.argmax(preds, axis=-1)\n",
        "        y_preds.append(preds)\n",
        "        y_true.append(y_batch)\n",
        "    \n",
        "    y_preds = tf.concat(y_preds, axis=0)\n",
        "    y_true = tf.concat(y_true, axis=0)\n",
        "\n",
        "    return accuracy(tf.cast(y_true, 'int32'), tf.cast(y_preds, 'int32')).numpy()"
      ]
    },
    {
      "cell_type": "markdown",
      "metadata": {
        "id": "EZldXWBT3-qJ"
      },
      "source": [
        "8 Напишите функцию обучающего шага `train_step`. Данная функция будет немного отличаться от показанной в лекции тем, что ей на вход также дается функция ошибки. Полный список аргументов: модель, тупл данных (батч картинок, батч меток), оптимизатор, функция ошибки. Функция `train_step` должна возвращать вычисленное значение функции ошибки.\n",
        "\n",
        "В данной лабораторной функция ошибки не будет писаться заново, будет использоваться готовая кросс-энтропия из Keras."
      ]
    },
    {
      "cell_type": "code",
      "execution_count": 21,
      "metadata": {
        "id": "BnzBHC5m3-qJ"
      },
      "outputs": [],
      "source": [
        "def train_step(model, data, optim, loss_f):\n",
        "    \"\"\"\n",
        "    Функция, производящая один обучающий шаг.\n",
        "    \"\"\"\n",
        "    with tf.GradientTape() as tape:\n",
        "        # \"Прогон\" данных через модель и вычисление значения функции ошибки\n",
        "        x, y = data\n",
        "        preds = model(x)\n",
        "        loss = loss_f(y, preds)\n",
        "    # Вычисление градиентов\n",
        "    grads = tape.gradient(loss, model.trainable_variables)\n",
        "    # Применение градиентов к весам\n",
        "    optim.apply_gradients(zip(grads, model.trainable_variables))\n",
        "    return loss"
      ]
    },
    {
      "cell_type": "markdown",
      "metadata": {
        "id": "6qguo5IA3-qK"
      },
      "source": [
        "9 Оцените точность модели."
      ]
    },
    {
      "cell_type": "code",
      "execution_count": 22,
      "metadata": {
        "id": "0LqOkfwp3-qK",
        "colab": {
          "base_uri": "https://localhost:8080/"
        },
        "outputId": "29a01c2c-1d1a-4c5b-a5c8-7e5bd234829e"
      },
      "outputs": [
        {
          "output_type": "stream",
          "name": "stderr",
          "text": [
            "100%|██████████| 78/78 [00:00<00:00, 113.17it/s]"
          ]
        },
        {
          "output_type": "stream",
          "name": "stdout",
          "text": [
            "\n",
            "Accuracy: 7.46 %\n"
          ]
        },
        {
          "output_type": "stream",
          "name": "stderr",
          "text": [
            "\n"
          ]
        }
      ],
      "source": [
        "acc = evaluate(model, test_dataset)\n",
        "print('\\nAccuracy:', round(acc * 100, 2), '%')"
      ]
    },
    {
      "cell_type": "markdown",
      "metadata": {
        "id": "vIfll62c3-qK"
      },
      "source": [
        "10 Подготовьте гиперпараметры обучения: оптимизатор, функция ошибки ([tf.keras.losses.SparseCategoricalCrossentropy](https://www.tensorflow.org/api_docs/python/tf/keras/losses/SparseCategoricalCrossentropy)), количество эпох."
      ]
    },
    {
      "cell_type": "code",
      "execution_count": 23,
      "metadata": {
        "id": "-oLH9SGG3-qK"
      },
      "outputs": [],
      "source": [
        "print_period = 100\n",
        "\n",
        "epochs = 10\n",
        "# optim = tf.optimizers.RMSprop(learning_rate=0.01)\n",
        "optim = tf.optimizers.Adam(learning_rate=0.005)\n",
        "loss_f = tf.keras.losses.SparseCategoricalCrossentropy()"
      ]
    },
    {
      "cell_type": "markdown",
      "metadata": {
        "id": "L2e2sAJI3-qK"
      },
      "source": [
        "11 Напишите обучающий цикл. Цикл состоит из внешнего цикла, что отсчитывает эпохи, и вложенного, что итерируется по обучающему датасету.\n",
        "Во вложенном цикле должна вызываться функция `train_step`. Каждую эпоху модель должна тестироваться функцией `evaluate`. Должны выводиться номер эпохи, значение ошибки и точности. Сохраняйте значения ошибки и точности в списки. Обучите модель. По ходу обучения подбирайте более оптимальные гиперпараметры обучения (learning_rate, другой оптимизатор)."
      ]
    },
    {
      "cell_type": "code",
      "execution_count": 24,
      "metadata": {
        "id": "ZPSrEKrw3-qK",
        "colab": {
          "base_uri": "https://localhost:8080/"
        },
        "outputId": "8127d7ee-f385-42d7-bef1-07aa1cc5156c"
      },
      "outputs": [
        {
          "output_type": "stream",
          "name": "stdout",
          "text": [
            "Epoch: 0 Iteration: 0 Loss: 2.3514032\n",
            "Epoch: 0 Iteration: 100 Loss: 0.4244642\n",
            "Epoch: 0 Iteration: 200 Loss: 0.45186418\n",
            "Epoch: 0 Iteration: 300 Loss: 0.34093297\n",
            "Epoch: 0 Iteration: 400 Loss: 0.6080115\n",
            "Тестирование модели...\n"
          ]
        },
        {
          "output_type": "stream",
          "name": "stderr",
          "text": [
            "100%|██████████| 78/78 [00:00<00:00, 256.96it/s]\n"
          ]
        },
        {
          "output_type": "stream",
          "name": "stdout",
          "text": [
            "Epoch: 0 Accuracy: 0.8318309\n",
            "Epoch: 1 Iteration: 0 Loss: 0.49568298\n",
            "Epoch: 1 Iteration: 100 Loss: 0.61734474\n",
            "Epoch: 1 Iteration: 200 Loss: 0.49833992\n",
            "Epoch: 1 Iteration: 300 Loss: 0.6577134\n",
            "Epoch: 1 Iteration: 400 Loss: 0.42150545\n",
            "Тестирование модели...\n"
          ]
        },
        {
          "output_type": "stream",
          "name": "stderr",
          "text": [
            "100%|██████████| 78/78 [00:00<00:00, 368.78it/s]\n"
          ]
        },
        {
          "output_type": "stream",
          "name": "stdout",
          "text": [
            "Epoch: 1 Accuracy: 0.81540465\n",
            "Epoch: 2 Iteration: 0 Loss: 0.50815207\n",
            "Epoch: 2 Iteration: 100 Loss: 0.45082307\n",
            "Epoch: 2 Iteration: 200 Loss: 0.44029844\n",
            "Epoch: 2 Iteration: 300 Loss: 0.6022781\n",
            "Epoch: 2 Iteration: 400 Loss: 0.44698194\n",
            "Тестирование модели...\n"
          ]
        },
        {
          "output_type": "stream",
          "name": "stderr",
          "text": [
            "100%|██████████| 78/78 [00:00<00:00, 427.90it/s]"
          ]
        },
        {
          "output_type": "stream",
          "name": "stdout",
          "text": [
            "Epoch: 2 Accuracy: 0.8322316\n"
          ]
        },
        {
          "output_type": "stream",
          "name": "stderr",
          "text": [
            "\n"
          ]
        },
        {
          "output_type": "stream",
          "name": "stdout",
          "text": [
            "Epoch: 3 Iteration: 0 Loss: 0.3943576\n",
            "Epoch: 3 Iteration: 100 Loss: 0.36284775\n",
            "Epoch: 3 Iteration: 200 Loss: 0.3054235\n",
            "Epoch: 3 Iteration: 300 Loss: 0.318746\n",
            "Epoch: 3 Iteration: 400 Loss: 0.45736057\n",
            "Тестирование модели...\n"
          ]
        },
        {
          "output_type": "stream",
          "name": "stderr",
          "text": [
            "100%|██████████| 78/78 [00:00<00:00, 407.36it/s]\n"
          ]
        },
        {
          "output_type": "stream",
          "name": "stdout",
          "text": [
            "Epoch: 3 Accuracy: 0.82311696\n",
            "Epoch: 4 Iteration: 0 Loss: 0.45537478\n",
            "Epoch: 4 Iteration: 100 Loss: 0.50592005\n",
            "Epoch: 4 Iteration: 200 Loss: 0.38637042\n",
            "Epoch: 4 Iteration: 300 Loss: 0.5629841\n",
            "Epoch: 4 Iteration: 400 Loss: 0.38583142\n",
            "Тестирование модели...\n"
          ]
        },
        {
          "output_type": "stream",
          "name": "stderr",
          "text": [
            "100%|██████████| 78/78 [00:00<00:00, 254.89it/s]\n"
          ]
        },
        {
          "output_type": "stream",
          "name": "stdout",
          "text": [
            "Epoch: 4 Accuracy: 0.80709136\n",
            "Epoch: 5 Iteration: 0 Loss: 0.5082116\n",
            "Epoch: 5 Iteration: 100 Loss: 0.36478066\n",
            "Epoch: 5 Iteration: 200 Loss: 0.3567196\n",
            "Epoch: 5 Iteration: 300 Loss: 0.6618944\n",
            "Epoch: 5 Iteration: 400 Loss: 0.4165995\n",
            "Тестирование модели...\n"
          ]
        },
        {
          "output_type": "stream",
          "name": "stderr",
          "text": [
            "100%|██████████| 78/78 [00:00<00:00, 256.11it/s]\n"
          ]
        },
        {
          "output_type": "stream",
          "name": "stdout",
          "text": [
            "Epoch: 5 Accuracy: 0.82782453\n",
            "Epoch: 6 Iteration: 0 Loss: 0.50833\n",
            "Epoch: 6 Iteration: 100 Loss: 0.48484802\n",
            "Epoch: 6 Iteration: 200 Loss: 0.26212966\n",
            "Epoch: 6 Iteration: 300 Loss: 0.5534221\n",
            "Epoch: 6 Iteration: 400 Loss: 0.49968818\n",
            "Тестирование модели...\n"
          ]
        },
        {
          "output_type": "stream",
          "name": "stderr",
          "text": [
            "100%|██████████| 78/78 [00:00<00:00, 451.57it/s]"
          ]
        },
        {
          "output_type": "stream",
          "name": "stdout",
          "text": [
            "Epoch: 6 Accuracy: 0.8171074\n"
          ]
        },
        {
          "output_type": "stream",
          "name": "stderr",
          "text": [
            "\n"
          ]
        },
        {
          "output_type": "stream",
          "name": "stdout",
          "text": [
            "Epoch: 7 Iteration: 0 Loss: 0.35033917\n",
            "Epoch: 7 Iteration: 100 Loss: 0.6206399\n",
            "Epoch: 7 Iteration: 200 Loss: 0.61105406\n",
            "Epoch: 7 Iteration: 300 Loss: 0.3833211\n",
            "Epoch: 7 Iteration: 400 Loss: 0.33761287\n",
            "Тестирование модели...\n"
          ]
        },
        {
          "output_type": "stream",
          "name": "stderr",
          "text": [
            "100%|██████████| 78/78 [00:00<00:00, 490.12it/s]"
          ]
        },
        {
          "output_type": "stream",
          "name": "stdout",
          "text": [
            "Epoch: 7 Accuracy: 0.83153045\n"
          ]
        },
        {
          "output_type": "stream",
          "name": "stderr",
          "text": [
            "\n"
          ]
        },
        {
          "output_type": "stream",
          "name": "stdout",
          "text": [
            "Epoch: 8 Iteration: 0 Loss: 0.3337804\n",
            "Epoch: 8 Iteration: 100 Loss: 0.4960071\n",
            "Epoch: 8 Iteration: 200 Loss: 0.35492435\n",
            "Epoch: 8 Iteration: 300 Loss: 0.51865923\n",
            "Epoch: 8 Iteration: 400 Loss: 0.6441467\n",
            "Тестирование модели...\n"
          ]
        },
        {
          "output_type": "stream",
          "name": "stderr",
          "text": [
            "100%|██████████| 78/78 [00:00<00:00, 252.48it/s]\n"
          ]
        },
        {
          "output_type": "stream",
          "name": "stdout",
          "text": [
            "Epoch: 8 Accuracy: 0.81270033\n",
            "Epoch: 9 Iteration: 0 Loss: 0.37087107\n",
            "Epoch: 9 Iteration: 100 Loss: 0.4364371\n",
            "Epoch: 9 Iteration: 200 Loss: 0.31010896\n",
            "Epoch: 9 Iteration: 300 Loss: 0.7429841\n",
            "Epoch: 9 Iteration: 400 Loss: 0.4133262\n",
            "Тестирование модели...\n"
          ]
        },
        {
          "output_type": "stream",
          "name": "stderr",
          "text": [
            "100%|██████████| 78/78 [00:00<00:00, 257.12it/s]"
          ]
        },
        {
          "output_type": "stream",
          "name": "stdout",
          "text": [
            "Epoch: 9 Accuracy: 0.81330127\n"
          ]
        },
        {
          "output_type": "stream",
          "name": "stderr",
          "text": [
            "\n"
          ]
        }
      ],
      "source": [
        "loss_history = []\n",
        "acc_history = []\n",
        "\n",
        "for epoch in range(epochs):\n",
        "\n",
        "    for i, data in enumerate(train_dataset):\n",
        "\n",
        "        loss = train_step(model, data, optim, loss_f)\n",
        "\n",
        "        loss_numpy = loss.numpy()\n",
        "        loss_history.append(loss_numpy)\n",
        "        \n",
        "        if i % print_period == 0:\n",
        "            print('Epoch:', epoch, 'Iteration:', i, 'Loss:', loss_numpy)\n",
        "    \n",
        "    print('Тестирование модели...')\n",
        "    acc = evaluate(model, test_dataset)\n",
        "    acc_history.append(acc)\n",
        "    print('Epoch:', epoch, 'Accuracy:', acc)"
      ]
    },
    {
      "cell_type": "markdown",
      "metadata": {
        "id": "SGSAbuDu3-qK"
      },
      "source": [
        "12 Выведите графики точности и ошибки, используя matplotlib."
      ]
    },
    {
      "cell_type": "code",
      "execution_count": 25,
      "metadata": {
        "id": "kc36dbLB3-qK",
        "colab": {
          "base_uri": "https://localhost:8080/",
          "height": 580
        },
        "outputId": "90368d05-bf70-4760-e2ee-02b0c299bbd8"
      },
      "outputs": [
        {
          "output_type": "stream",
          "name": "stdout",
          "text": [
            "Loss\n"
          ]
        },
        {
          "output_type": "display_data",
          "data": {
            "text/plain": [
              "<Figure size 432x288 with 1 Axes>"
            ],
            "image/png": "[encoded data removed]"
          },
          "metadata": {
            "needs_background": "light"
          }
        },
        {
          "output_type": "stream",
          "name": "stdout",
          "text": [
            "Accuracy\n"
          ]
        },
        {
          "output_type": "display_data",
          "data": {
            "text/plain": [
              "<Figure size 432x288 with 1 Axes>"
            ],
            "image/png": "[encoded data removed]"
          },
          "metadata": {
            "needs_background": "light"
          }
        }
      ],
      "source": [
        "print('Loss')\n",
        "plt.plot(loss_history)\n",
        "plt.title(\"Loss\")\n",
        "plt.show()\n",
        "\n",
        "print('Accuracy')\n",
        "plt.plot(np.arange(epochs) + 1, acc_history)\n",
        "plt.title(\"Accuracy\")\n",
        "plt.show()"
      ]
    },
    {
      "cell_type": "markdown",
      "metadata": {
        "id": "s6HhZwul3-qK"
      },
      "source": [
        "13 (Опционально) Постройте и обучите произвольную нейронную сеть с использованием Keras для решения той же задачи. "
      ]
    },
    {
      "cell_type": "code",
      "execution_count": 26,
      "metadata": {
        "id": "CsOGdp3I3-qK"
      },
      "outputs": [],
      "source": [
        "from keras.models import Sequential\n",
        "from keras.layers import Conv2D, MaxPooling2D, Dense, Flatten, Dropout\n",
        "from keras.optimizers import Adam\n",
        "from keras.losses import SparseCategoricalCrossentropy\n",
        "from keras.metrics import SparseCategoricalAccuracy"
      ]
    },
    {
      "cell_type": "code",
      "source": [
        "keras_model = Sequential([\n",
        "    Conv2D(filters=32, kernel_size=3, activation='relu', input_shape=(28, 28, 1)),\n",
        "    MaxPooling2D(pool_size=2),\n",
        "    Dropout(0.15),\n",
        "    Flatten(),\n",
        "    Dense(32, activation='relu'),\n",
        "    Dense(10, activation='softmax')\n",
        "])"
      ],
      "metadata": {
        "id": "uLbiJbW2721c"
      },
      "execution_count": 27,
      "outputs": []
    },
    {
      "cell_type": "code",
      "source": [
        "loss = SparseCategoricalCrossentropy()\n",
        "accuracy = SparseCategoricalAccuracy()\n",
        "optim = Adam(lr=0.01)\n",
        "\n",
        "epochs = 5"
      ],
      "metadata": {
        "colab": {
          "base_uri": "https://localhost:8080/"
        },
        "id": "n7w1PLYx724K",
        "outputId": "a5c512ee-8419-4070-fa07-3001db88f247"
      },
      "execution_count": 28,
      "outputs": [
        {
          "output_type": "stream",
          "name": "stderr",
          "text": [
            "/usr/local/lib/python3.7/dist-packages/keras/optimizers/optimizer_v2/adam.py:110: UserWarning: The `lr` argument is deprecated, use `learning_rate` instead.\n",
            "  super(Adam, self).__init__(name, **kwargs)\n"
          ]
        }
      ]
    },
    {
      "cell_type": "code",
      "source": [
        "keras_model.compile(optimizer=optim, loss=loss, metrics=[accuracy])"
      ],
      "metadata": {
        "id": "2Eck8GTy8VEq"
      },
      "execution_count": 29,
      "outputs": []
    },
    {
      "cell_type": "code",
      "source": [
        "info = keras_model.fit(train_dataset, epochs=epochs, validation_data=test_dataset)"
      ],
      "metadata": {
        "colab": {
          "base_uri": "https://localhost:8080/"
        },
        "id": "pFpEzfh7727r",
        "outputId": "efc313bb-3a04-443d-e3a9-d30174cfd512"
      },
      "execution_count": 30,
      "outputs": [
        {
          "output_type": "stream",
          "name": "stdout",
          "text": [
            "Epoch 1/5\n",
            "468/468 [==============================] - 33s 70ms/step - loss: 0.4466 - sparse_categorical_accuracy: 0.8438 - val_loss: 0.3556 - val_sparse_categorical_accuracy: 0.8730\n",
            "Epoch 2/5\n",
            "468/468 [==============================] - 30s 64ms/step - loss: 0.3082 - sparse_categorical_accuracy: 0.8897 - val_loss: 0.3225 - val_sparse_categorical_accuracy: 0.8848\n",
            "Epoch 3/5\n",
            "468/468 [==============================] - 30s 63ms/step - loss: 0.2794 - sparse_categorical_accuracy: 0.8972 - val_loss: 0.2988 - val_sparse_categorical_accuracy: 0.8953\n",
            "Epoch 4/5\n",
            "468/468 [==============================] - 29s 62ms/step - loss: 0.2613 - sparse_categorical_accuracy: 0.9026 - val_loss: 0.3060 - val_sparse_categorical_accuracy: 0.8952\n",
            "Epoch 5/5\n",
            "468/468 [==============================] - 29s 62ms/step - loss: 0.2471 - sparse_categorical_accuracy: 0.9088 - val_loss: 0.3128 - val_sparse_categorical_accuracy: 0.8898\n"
          ]
        }
      ]
    },
    {
      "cell_type": "code",
      "source": [
        "plt.plot(np.arange(epochs) + 1, info.history['loss'])\n",
        "plt.title(\"Loss\")\n",
        "plt.show()\n",
        "\n",
        "plt.plot(np.arange(epochs) + 1, info.history['sparse_categorical_accuracy'])\n",
        "plt.title(\"Accuracy\")\n",
        "plt.show()"
      ],
      "metadata": {
        "colab": {
          "base_uri": "https://localhost:8080/",
          "height": 545
        },
        "id": "ozOtpTSa9fCS",
        "outputId": "dc89ca5f-76a4-40b1-b7fe-ff2d912659a6"
      },
      "execution_count": 31,
      "outputs": [
        {
          "output_type": "display_data",
          "data": {
            "text/plain": [
              "<Figure size 432x288 with 1 Axes>"
            ],
            "image/png": "[encoded data removed]"
          },
          "metadata": {
            "needs_background": "light"
          }
        },
        {
          "output_type": "display_data",
          "data": {
            "text/plain": [
              "<Figure size 432x288 with 1 Axes>"
            ],
            "image/png": "[encoded data removed]"
          },
          "metadata": {
            "needs_background": "light"
          }
        }
      ]
    },
    {
      "cell_type": "markdown",
      "source": [
        "Вывод: Построенная модель свёрточной нейронной сети справляется с задачей классификации изображений лучше, чем простейшая логистическая регрессия с уплощением картинки - даже с обучением на меньшем количестве эпох достигается большая accuracy, а само обучение происходит стабильнее (график лосса регрессии гораздо шумнее)."
      ],
      "metadata": {
        "id": "4YxUz16_Cj7T"
      }
    },
    {
      "cell_type": "code",
      "source": [],
      "metadata": {
        "id": "EvByDkT29fGZ"
      },
      "execution_count": 31,
      "outputs": []
    }
  ],
  "metadata": {
    "kernelspec": {
      "display_name": "Python 3",
      "language": "python",
      "name": "python3"
    },
    "language_info": {
      "codemirror_mode": {
        "name": "ipython",
        "version": 3
      },
      "file_extension": ".py",
      "mimetype": "text/x-python",
      "name": "python",
      "nbconvert_exporter": "python",
      "pygments_lexer": "ipython3",
      "version": "3.8.5"
    },
    "colab": {
      "provenance": [],
      "collapsed_sections": []
    },
    "gpuClass": "standard"
  },
  "nbformat": 4,
  "nbformat_minor": 0
}
